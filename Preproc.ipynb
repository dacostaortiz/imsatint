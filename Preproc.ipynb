{
 "cells": [
  {
   "cell_type": "markdown",
   "metadata": {},
   "source": [
    "Make sure that libraries are already installed."
   ]
  },
  {
   "cell_type": "code",
   "execution_count": 1,
   "metadata": {},
   "outputs": [
    {
     "name": "stdout",
     "output_type": "stream",
     "text": [
      "Python Version 3.7.3\n",
      "GDAL Version 2.4.1\n"
     ]
    }
   ],
   "source": [
    "import platform\n",
    "import os, sys\n",
    "import numpy as np\n",
    "from osgeo import gdal, ogr\n",
    "gdal.UseExceptions()     \n",
    "\n",
    "print(\"Python Version\",platform.python_version())\n",
    "print(\"GDAL Version\", gdal.__version__)"
   ]
  },
  {
   "cell_type": "markdown",
   "metadata": {},
   "source": [
    "As long as Sentinel-2 data is stored in [JPEG2000 format](https://github.com/uclouvain/openjpeg), we need the \"driver\" that understands this image compression format which is known as a .jp2 file. So, we have to check it's installation as well."
   ]
  },
  {
   "cell_type": "code",
   "execution_count": 2,
   "metadata": {},
   "outputs": [],
   "source": [
    "!gdalinfo --formats | grep JPEG2000"
   ]
  },
  {
   "cell_type": "markdown",
   "metadata": {},
   "source": [
    "Get testing data\n",
    "\n",
    "Download from copernicus the following files:\n",
    "\n",
    "T18NZN_20181217T151659_TCI_10m.jp2\n",
    "\n",
    "T18NZN_20190126T151709_TCI_10m.jp2\n",
    "\n",
    "In particular, I choose \"T18NZN\" tile as example because this area is interesting for my research."
   ]
  },
  {
   "cell_type": "markdown",
   "metadata": {},
   "source": [
    "In order to get data we use the sentinel hub API"
   ]
  },
  {
   "cell_type": "code",
   "execution_count": 3,
   "metadata": {},
   "outputs": [],
   "source": [
    "from sentinelsat import SentinelAPI, read_geojson, geojson_to_wkt\n",
    "from datetime import date\n",
    "from collections import OrderedDict\n",
    "import kml2geojson\n",
    "import re\n",
    "#import wget, urllib\n",
    "#from urllib.request import urlopen"
   ]
  },
  {
   "cell_type": "markdown",
   "metadata": {},
   "source": [
    "Create an instance from sentinelhub by using credentials from your account"
   ]
  },
  {
   "cell_type": "code",
   "execution_count": 4,
   "metadata": {},
   "outputs": [],
   "source": [
    "api = SentinelAPI('dacostaortiz', 'pokemonuis', 'https://scihub.copernicus.eu/dhus')"
   ]
  },
  {
   "cell_type": "markdown",
   "metadata": {},
   "source": [
    "Data retrived can be referenced from a previous created shapefile."
   ]
  },
  {
   "cell_type": "code",
   "execution_count": 5,
   "metadata": {},
   "outputs": [],
   "source": [
    "kml2geojson.main.convert('santander.kml', './') #this will converte the kml to a geojson file\n",
    "\n",
    "footprint = geojson_to_wkt(read_geojson('santander.geojson'))"
   ]
  },
  {
   "cell_type": "markdown",
   "metadata": {},
   "source": [
    "By using the created file, data can be query from copernicus servers by the Sentinel Hub API."
   ]
  },
  {
   "cell_type": "code",
   "execution_count": 6,
   "metadata": {},
   "outputs": [
    {
     "name": "stderr",
     "output_type": "stream",
     "text": [
      "Querying products: 100%|██████████| 271/271 [00:04<00:00, 42.61 products/s]\n"
     ]
    }
   ],
   "source": [
    "products = api.query(footprint,\n",
    "                   date = ('20181201', date(2019, 1, 31)),\n",
    "                   platformname = 'Sentinel-2',\n",
    "                   cloudcoverpercentage = (0, 100))"
   ]
  },
  {
   "cell_type": "code",
   "execution_count": 15,
   "metadata": {},
   "outputs": [],
   "source": [
    "#products"
   ]
  },
  {
   "cell_type": "code",
   "execution_count": 17,
   "metadata": {},
   "outputs": [
    {
     "data": {
      "text/html": [
       "<div>\n",
       "<style scoped>\n",
       "    .dataframe tbody tr th:only-of-type {\n",
       "        vertical-align: middle;\n",
       "    }\n",
       "\n",
       "    .dataframe tbody tr th {\n",
       "        vertical-align: top;\n",
       "    }\n",
       "\n",
       "    .dataframe thead th {\n",
       "        text-align: right;\n",
       "    }\n",
       "</style>\n",
       "<table border=\"1\" class=\"dataframe\">\n",
       "  <thead>\n",
       "    <tr style=\"text-align: right;\">\n",
       "      <th></th>\n",
       "      <th>title</th>\n",
       "      <th>link</th>\n",
       "      <th>link_alternative</th>\n",
       "      <th>link_icon</th>\n",
       "      <th>summary</th>\n",
       "      <th>ingestiondate</th>\n",
       "      <th>beginposition</th>\n",
       "      <th>endposition</th>\n",
       "      <th>orbitnumber</th>\n",
       "      <th>relativeorbitnumber</th>\n",
       "      <th>...</th>\n",
       "      <th>processinglevel</th>\n",
       "      <th>producttype</th>\n",
       "      <th>platformname</th>\n",
       "      <th>size</th>\n",
       "      <th>uuid</th>\n",
       "      <th>datatakesensingstart</th>\n",
       "      <th>sensoroperationalmode</th>\n",
       "      <th>tileid</th>\n",
       "      <th>hv_order_tileid</th>\n",
       "      <th>geometry</th>\n",
       "    </tr>\n",
       "  </thead>\n",
       "  <tbody>\n",
       "    <tr>\n",
       "      <th>00723880-6f14-4b98-9232-bf0aa68e4cb7</th>\n",
       "      <td>S2B_MSIL2A_20190116T151709_N0211_R125_T18PZQ_2...</td>\n",
       "      <td>https://scihub.copernicus.eu/dhus/odata/v1/Pro...</td>\n",
       "      <td>https://scihub.copernicus.eu/dhus/odata/v1/Pro...</td>\n",
       "      <td>https://scihub.copernicus.eu/dhus/odata/v1/Pro...</td>\n",
       "      <td>Date: 2019-01-16T15:17:09.024Z, Instrument: MS...</td>\n",
       "      <td>2019-01-17 04:39:58.712</td>\n",
       "      <td>2019-01-16 15:17:09.024</td>\n",
       "      <td>2019-01-16 15:17:09.024</td>\n",
       "      <td>9732</td>\n",
       "      <td>125</td>\n",
       "      <td>...</td>\n",
       "      <td>Level-2A</td>\n",
       "      <td>S2MSI2A</td>\n",
       "      <td>Sentinel-2</td>\n",
       "      <td>1.11 GB</td>\n",
       "      <td>00723880-6f14-4b98-9232-bf0aa68e4cb7</td>\n",
       "      <td>NaT</td>\n",
       "      <td>NaN</td>\n",
       "      <td>NaN</td>\n",
       "      <td>NaN</td>\n",
       "      <td>POLYGON ((-71.57989499999999 9.030504166854142...</td>\n",
       "    </tr>\n",
       "    <tr>\n",
       "      <th>013b614a-f8b8-4974-9343-3b3f657b81c2</th>\n",
       "      <td>S2B_MSIL2A_20190116T151709_N0211_R125_T18NYN_2...</td>\n",
       "      <td>https://scihub.copernicus.eu/dhus/odata/v1/Pro...</td>\n",
       "      <td>https://scihub.copernicus.eu/dhus/odata/v1/Pro...</td>\n",
       "      <td>https://scihub.copernicus.eu/dhus/odata/v1/Pro...</td>\n",
       "      <td>Date: 2019-01-16T15:17:09.024Z, Instrument: MS...</td>\n",
       "      <td>2019-01-17 04:48:33.229</td>\n",
       "      <td>2019-01-16 15:17:09.024</td>\n",
       "      <td>2019-01-16 15:17:09.024</td>\n",
       "      <td>9732</td>\n",
       "      <td>125</td>\n",
       "      <td>...</td>\n",
       "      <td>Level-2A</td>\n",
       "      <td>S2MSI2A</td>\n",
       "      <td>Sentinel-2</td>\n",
       "      <td>940.66 MB</td>\n",
       "      <td>013b614a-f8b8-4974-9343-3b3f657b81c2</td>\n",
       "      <td>NaT</td>\n",
       "      <td>NaN</td>\n",
       "      <td>NaN</td>\n",
       "      <td>NaN</td>\n",
       "      <td>POLYGON ((-73.19208 6.395960868853862, -73.161...</td>\n",
       "    </tr>\n",
       "    <tr>\n",
       "      <th>025b115a-645f-43b1-b50b-191d795e925f</th>\n",
       "      <td>S2A_MSIL2A_20190114T152641_N0211_R025_T18PXR_2...</td>\n",
       "      <td>https://scihub.copernicus.eu/dhus/odata/v1/Pro...</td>\n",
       "      <td>https://scihub.copernicus.eu/dhus/odata/v1/Pro...</td>\n",
       "      <td>https://scihub.copernicus.eu/dhus/odata/v1/Pro...</td>\n",
       "      <td>Date: 2019-01-14T15:26:41.024Z, Instrument: MS...</td>\n",
       "      <td>2019-01-14 22:46:15.495</td>\n",
       "      <td>2019-01-14 15:26:41.024</td>\n",
       "      <td>2019-01-14 15:26:41.024</td>\n",
       "      <td>18612</td>\n",
       "      <td>25</td>\n",
       "      <td>...</td>\n",
       "      <td>Level-2A</td>\n",
       "      <td>S2MSI2A</td>\n",
       "      <td>Sentinel-2</td>\n",
       "      <td>1.10 GB</td>\n",
       "      <td>025b115a-645f-43b1-b50b-191d795e925f</td>\n",
       "      <td>NaT</td>\n",
       "      <td>NaN</td>\n",
       "      <td>NaN</td>\n",
       "      <td>NaN</td>\n",
       "      <td>POLYGON ((-74.08774 9.950163774144059, -73.086...</td>\n",
       "    </tr>\n",
       "    <tr>\n",
       "      <th>02a57ae7-a504-4b97-a63b-f2f6098d33db</th>\n",
       "      <td>S2A_MSIL1C_20190101T151701_N0207_R125_T18NYN_2...</td>\n",
       "      <td>https://scihub.copernicus.eu/dhus/odata/v1/Pro...</td>\n",
       "      <td>https://scihub.copernicus.eu/dhus/odata/v1/Pro...</td>\n",
       "      <td>https://scihub.copernicus.eu/dhus/odata/v1/Pro...</td>\n",
       "      <td>Date: 2019-01-01T15:17:01.024Z, Instrument: MS...</td>\n",
       "      <td>2019-01-01 18:16:29.436</td>\n",
       "      <td>2019-01-01 15:17:01.024</td>\n",
       "      <td>2019-01-01 15:17:01.024</td>\n",
       "      <td>18426</td>\n",
       "      <td>125</td>\n",
       "      <td>...</td>\n",
       "      <td>Level-1C</td>\n",
       "      <td>S2MSI1C</td>\n",
       "      <td>Sentinel-2</td>\n",
       "      <td>771.88 MB</td>\n",
       "      <td>02a57ae7-a504-4b97-a63b-f2f6098d33db</td>\n",
       "      <td>2019-01-01 15:17:01.024</td>\n",
       "      <td>INS-NOBS</td>\n",
       "      <td>18NYN</td>\n",
       "      <td>NN18Y</td>\n",
       "      <td>(POLYGON ((-73.19213999999999 6.37884189619031...</td>\n",
       "    </tr>\n",
       "    <tr>\n",
       "      <th>02ac22aa-f915-4cd5-b662-0d9c2f939a40</th>\n",
       "      <td>S2B_MSIL2A_20190106T151659_N0211_R125_T18NZN_2...</td>\n",
       "      <td>https://scihub.copernicus.eu/dhus/odata/v1/Pro...</td>\n",
       "      <td>https://scihub.copernicus.eu/dhus/odata/v1/Pro...</td>\n",
       "      <td>https://scihub.copernicus.eu/dhus/odata/v1/Pro...</td>\n",
       "      <td>Date: 2019-01-06T15:16:59.024Z, Instrument: MS...</td>\n",
       "      <td>2019-01-07 04:23:33.740</td>\n",
       "      <td>2019-01-06 15:16:59.024</td>\n",
       "      <td>2019-01-06 15:16:59.024</td>\n",
       "      <td>9589</td>\n",
       "      <td>125</td>\n",
       "      <td>...</td>\n",
       "      <td>Level-2A</td>\n",
       "      <td>S2MSI2A</td>\n",
       "      <td>Sentinel-2</td>\n",
       "      <td>979.78 MB</td>\n",
       "      <td>02ac22aa-f915-4cd5-b662-0d9c2f939a40</td>\n",
       "      <td>NaT</td>\n",
       "      <td>NaN</td>\n",
       "      <td>NaN</td>\n",
       "      <td>NaN</td>\n",
       "      <td>POLYGON ((-72.28369000000001 7.229727890841263...</td>\n",
       "    </tr>\n",
       "  </tbody>\n",
       "</table>\n",
       "<p>5 rows × 38 columns</p>\n",
       "</div>"
      ],
      "text/plain": [
       "                                                                                  title  \\\n",
       "00723880-6f14-4b98-9232-bf0aa68e4cb7  S2B_MSIL2A_20190116T151709_N0211_R125_T18PZQ_2...   \n",
       "013b614a-f8b8-4974-9343-3b3f657b81c2  S2B_MSIL2A_20190116T151709_N0211_R125_T18NYN_2...   \n",
       "025b115a-645f-43b1-b50b-191d795e925f  S2A_MSIL2A_20190114T152641_N0211_R025_T18PXR_2...   \n",
       "02a57ae7-a504-4b97-a63b-f2f6098d33db  S2A_MSIL1C_20190101T151701_N0207_R125_T18NYN_2...   \n",
       "02ac22aa-f915-4cd5-b662-0d9c2f939a40  S2B_MSIL2A_20190106T151659_N0211_R125_T18NZN_2...   \n",
       "\n",
       "                                                                                   link  \\\n",
       "00723880-6f14-4b98-9232-bf0aa68e4cb7  https://scihub.copernicus.eu/dhus/odata/v1/Pro...   \n",
       "013b614a-f8b8-4974-9343-3b3f657b81c2  https://scihub.copernicus.eu/dhus/odata/v1/Pro...   \n",
       "025b115a-645f-43b1-b50b-191d795e925f  https://scihub.copernicus.eu/dhus/odata/v1/Pro...   \n",
       "02a57ae7-a504-4b97-a63b-f2f6098d33db  https://scihub.copernicus.eu/dhus/odata/v1/Pro...   \n",
       "02ac22aa-f915-4cd5-b662-0d9c2f939a40  https://scihub.copernicus.eu/dhus/odata/v1/Pro...   \n",
       "\n",
       "                                                                       link_alternative  \\\n",
       "00723880-6f14-4b98-9232-bf0aa68e4cb7  https://scihub.copernicus.eu/dhus/odata/v1/Pro...   \n",
       "013b614a-f8b8-4974-9343-3b3f657b81c2  https://scihub.copernicus.eu/dhus/odata/v1/Pro...   \n",
       "025b115a-645f-43b1-b50b-191d795e925f  https://scihub.copernicus.eu/dhus/odata/v1/Pro...   \n",
       "02a57ae7-a504-4b97-a63b-f2f6098d33db  https://scihub.copernicus.eu/dhus/odata/v1/Pro...   \n",
       "02ac22aa-f915-4cd5-b662-0d9c2f939a40  https://scihub.copernicus.eu/dhus/odata/v1/Pro...   \n",
       "\n",
       "                                                                              link_icon  \\\n",
       "00723880-6f14-4b98-9232-bf0aa68e4cb7  https://scihub.copernicus.eu/dhus/odata/v1/Pro...   \n",
       "013b614a-f8b8-4974-9343-3b3f657b81c2  https://scihub.copernicus.eu/dhus/odata/v1/Pro...   \n",
       "025b115a-645f-43b1-b50b-191d795e925f  https://scihub.copernicus.eu/dhus/odata/v1/Pro...   \n",
       "02a57ae7-a504-4b97-a63b-f2f6098d33db  https://scihub.copernicus.eu/dhus/odata/v1/Pro...   \n",
       "02ac22aa-f915-4cd5-b662-0d9c2f939a40  https://scihub.copernicus.eu/dhus/odata/v1/Pro...   \n",
       "\n",
       "                                                                                summary  \\\n",
       "00723880-6f14-4b98-9232-bf0aa68e4cb7  Date: 2019-01-16T15:17:09.024Z, Instrument: MS...   \n",
       "013b614a-f8b8-4974-9343-3b3f657b81c2  Date: 2019-01-16T15:17:09.024Z, Instrument: MS...   \n",
       "025b115a-645f-43b1-b50b-191d795e925f  Date: 2019-01-14T15:26:41.024Z, Instrument: MS...   \n",
       "02a57ae7-a504-4b97-a63b-f2f6098d33db  Date: 2019-01-01T15:17:01.024Z, Instrument: MS...   \n",
       "02ac22aa-f915-4cd5-b662-0d9c2f939a40  Date: 2019-01-06T15:16:59.024Z, Instrument: MS...   \n",
       "\n",
       "                                               ingestiondate  \\\n",
       "00723880-6f14-4b98-9232-bf0aa68e4cb7 2019-01-17 04:39:58.712   \n",
       "013b614a-f8b8-4974-9343-3b3f657b81c2 2019-01-17 04:48:33.229   \n",
       "025b115a-645f-43b1-b50b-191d795e925f 2019-01-14 22:46:15.495   \n",
       "02a57ae7-a504-4b97-a63b-f2f6098d33db 2019-01-01 18:16:29.436   \n",
       "02ac22aa-f915-4cd5-b662-0d9c2f939a40 2019-01-07 04:23:33.740   \n",
       "\n",
       "                                               beginposition  \\\n",
       "00723880-6f14-4b98-9232-bf0aa68e4cb7 2019-01-16 15:17:09.024   \n",
       "013b614a-f8b8-4974-9343-3b3f657b81c2 2019-01-16 15:17:09.024   \n",
       "025b115a-645f-43b1-b50b-191d795e925f 2019-01-14 15:26:41.024   \n",
       "02a57ae7-a504-4b97-a63b-f2f6098d33db 2019-01-01 15:17:01.024   \n",
       "02ac22aa-f915-4cd5-b662-0d9c2f939a40 2019-01-06 15:16:59.024   \n",
       "\n",
       "                                                 endposition  orbitnumber  \\\n",
       "00723880-6f14-4b98-9232-bf0aa68e4cb7 2019-01-16 15:17:09.024         9732   \n",
       "013b614a-f8b8-4974-9343-3b3f657b81c2 2019-01-16 15:17:09.024         9732   \n",
       "025b115a-645f-43b1-b50b-191d795e925f 2019-01-14 15:26:41.024        18612   \n",
       "02a57ae7-a504-4b97-a63b-f2f6098d33db 2019-01-01 15:17:01.024        18426   \n",
       "02ac22aa-f915-4cd5-b662-0d9c2f939a40 2019-01-06 15:16:59.024         9589   \n",
       "\n",
       "                                      relativeorbitnumber  ...  \\\n",
       "00723880-6f14-4b98-9232-bf0aa68e4cb7                  125  ...   \n",
       "013b614a-f8b8-4974-9343-3b3f657b81c2                  125  ...   \n",
       "025b115a-645f-43b1-b50b-191d795e925f                   25  ...   \n",
       "02a57ae7-a504-4b97-a63b-f2f6098d33db                  125  ...   \n",
       "02ac22aa-f915-4cd5-b662-0d9c2f939a40                  125  ...   \n",
       "\n",
       "                                      processinglevel  producttype  \\\n",
       "00723880-6f14-4b98-9232-bf0aa68e4cb7         Level-2A      S2MSI2A   \n",
       "013b614a-f8b8-4974-9343-3b3f657b81c2         Level-2A      S2MSI2A   \n",
       "025b115a-645f-43b1-b50b-191d795e925f         Level-2A      S2MSI2A   \n",
       "02a57ae7-a504-4b97-a63b-f2f6098d33db         Level-1C      S2MSI1C   \n",
       "02ac22aa-f915-4cd5-b662-0d9c2f939a40         Level-2A      S2MSI2A   \n",
       "\n",
       "                                      platformname       size  \\\n",
       "00723880-6f14-4b98-9232-bf0aa68e4cb7    Sentinel-2    1.11 GB   \n",
       "013b614a-f8b8-4974-9343-3b3f657b81c2    Sentinel-2  940.66 MB   \n",
       "025b115a-645f-43b1-b50b-191d795e925f    Sentinel-2    1.10 GB   \n",
       "02a57ae7-a504-4b97-a63b-f2f6098d33db    Sentinel-2  771.88 MB   \n",
       "02ac22aa-f915-4cd5-b662-0d9c2f939a40    Sentinel-2  979.78 MB   \n",
       "\n",
       "                                                                      uuid  \\\n",
       "00723880-6f14-4b98-9232-bf0aa68e4cb7  00723880-6f14-4b98-9232-bf0aa68e4cb7   \n",
       "013b614a-f8b8-4974-9343-3b3f657b81c2  013b614a-f8b8-4974-9343-3b3f657b81c2   \n",
       "025b115a-645f-43b1-b50b-191d795e925f  025b115a-645f-43b1-b50b-191d795e925f   \n",
       "02a57ae7-a504-4b97-a63b-f2f6098d33db  02a57ae7-a504-4b97-a63b-f2f6098d33db   \n",
       "02ac22aa-f915-4cd5-b662-0d9c2f939a40  02ac22aa-f915-4cd5-b662-0d9c2f939a40   \n",
       "\n",
       "                                        datatakesensingstart  \\\n",
       "00723880-6f14-4b98-9232-bf0aa68e4cb7                     NaT   \n",
       "013b614a-f8b8-4974-9343-3b3f657b81c2                     NaT   \n",
       "025b115a-645f-43b1-b50b-191d795e925f                     NaT   \n",
       "02a57ae7-a504-4b97-a63b-f2f6098d33db 2019-01-01 15:17:01.024   \n",
       "02ac22aa-f915-4cd5-b662-0d9c2f939a40                     NaT   \n",
       "\n",
       "                                      sensoroperationalmode  tileid  \\\n",
       "00723880-6f14-4b98-9232-bf0aa68e4cb7                    NaN     NaN   \n",
       "013b614a-f8b8-4974-9343-3b3f657b81c2                    NaN     NaN   \n",
       "025b115a-645f-43b1-b50b-191d795e925f                    NaN     NaN   \n",
       "02a57ae7-a504-4b97-a63b-f2f6098d33db               INS-NOBS   18NYN   \n",
       "02ac22aa-f915-4cd5-b662-0d9c2f939a40                    NaN     NaN   \n",
       "\n",
       "                                     hv_order_tileid  \\\n",
       "00723880-6f14-4b98-9232-bf0aa68e4cb7             NaN   \n",
       "013b614a-f8b8-4974-9343-3b3f657b81c2             NaN   \n",
       "025b115a-645f-43b1-b50b-191d795e925f             NaN   \n",
       "02a57ae7-a504-4b97-a63b-f2f6098d33db           NN18Y   \n",
       "02ac22aa-f915-4cd5-b662-0d9c2f939a40             NaN   \n",
       "\n",
       "                                                                               geometry  \n",
       "00723880-6f14-4b98-9232-bf0aa68e4cb7  POLYGON ((-71.57989499999999 9.030504166854142...  \n",
       "013b614a-f8b8-4974-9343-3b3f657b81c2  POLYGON ((-73.19208 6.395960868853862, -73.161...  \n",
       "025b115a-645f-43b1-b50b-191d795e925f  POLYGON ((-74.08774 9.950163774144059, -73.086...  \n",
       "02a57ae7-a504-4b97-a63b-f2f6098d33db  (POLYGON ((-73.19213999999999 6.37884189619031...  \n",
       "02ac22aa-f915-4cd5-b662-0d9c2f939a40  POLYGON ((-72.28369000000001 7.229727890841263...  \n",
       "\n",
       "[5 rows x 38 columns]"
      ]
     },
     "execution_count": 17,
     "metadata": {},
     "output_type": "execute_result"
    }
   ],
   "source": [
    "products_df = api.to_geodataframe(products)\n",
    "products_df.head()"
   ]
  },
  {
   "cell_type": "markdown",
   "metadata": {},
   "source": [
    "I've defined two functions over the generated metadata dataframe in order to get some insigths from data that we could potentially download."
   ]
  },
  {
   "cell_type": "code",
   "execution_count": 9,
   "metadata": {},
   "outputs": [],
   "source": [
    "def query_size(df):\n",
    "    c = 0\n",
    "    for f in df['size']:\n",
    "        d = f.split(' ')\n",
    "        if d[1] == 'MB':\n",
    "            c+=float(d[0])/1000\n",
    "        else:\n",
    "            c+=float(d[0])\n",
    "    print(\"size in GB: \"+str(c))\n",
    "def query_clouds(df):\n",
    "    print(\"media: \",df['cloudcoverpercentage'].mean())\n",
    "    print(\"mediana\",df['cloudcoverpercentage'].median())\n",
    "    print(\"max\",df['cloudcoverpercentage'].max())\n",
    "    print(\"min\",df['cloudcoverpercentage'].min())"
   ]
  },
  {
   "cell_type": "code",
   "execution_count": 10,
   "metadata": {},
   "outputs": [
    {
     "name": "stdout",
     "output_type": "stream",
     "text": [
      "size in GB: 191.01443000000003\n"
     ]
    }
   ],
   "source": [
    "query_size(products_df)"
   ]
  },
  {
   "cell_type": "code",
   "execution_count": 18,
   "metadata": {},
   "outputs": [
    {
     "name": "stdout",
     "output_type": "stream",
     "text": [
      "media:  31.268805774907747\n",
      "mediana 22.3315\n",
      "max 99.88149700000001\n",
      "min 0.0404\n"
     ]
    },
    {
     "data": {
      "text/plain": [
       "array([[<matplotlib.axes._subplots.AxesSubplot object at 0x7f3c8f2a16d8>]],\n",
       "      dtype=object)"
      ]
     },
     "execution_count": 18,
     "metadata": {},
     "output_type": "execute_result"
    },
    {
     "data": {
      "image/png": "[encoded data removed]",
      "text/plain": [
       "<Figure size 432x288 with 1 Axes>"
      ]
     },
     "metadata": {
      "needs_background": "light"
     },
     "output_type": "display_data"
    }
   ],
   "source": [
    "query_clouds(products_df)\n",
    "products_df.hist(column='cloudcoverpercentage',bins=10)"
   ]
  },
  {
   "cell_type": "markdown",
   "metadata": {},
   "source": [
    "From previous histofram we can notice that most of images were taken with low cloud coverage.\n",
    "\n",
    "Now let's choose a single tile."
   ]
  },
  {
   "cell_type": "code",
   "execution_count": 12,
   "metadata": {},
   "outputs": [],
   "source": [
    "tile = 'T18NZN'"
   ]
  },
  {
   "cell_type": "markdown",
   "metadata": {},
   "source": [
    "Also, let's filter by product. Images at Level-2A have a higher processing level because these are orto images at UTM/WGS84 projection. [ref](https://sentinel.esa.int/web/sentinel/missions/sentinel-2/data-products)"
   ]
  },
  {
   "cell_type": "code",
   "execution_count": 13,
   "metadata": {
    "scrolled": true
   },
   "outputs": [
    {
     "data": {
      "text/html": [
       "<div>\n",
       "<style scoped>\n",
       "    .dataframe tbody tr th:only-of-type {\n",
       "        vertical-align: middle;\n",
       "    }\n",
       "\n",
       "    .dataframe tbody tr th {\n",
       "        vertical-align: top;\n",
       "    }\n",
       "\n",
       "    .dataframe thead th {\n",
       "        text-align: right;\n",
       "    }\n",
       "</style>\n",
       "<table border=\"1\" class=\"dataframe\">\n",
       "  <thead>\n",
       "    <tr style=\"text-align: right;\">\n",
       "      <th></th>\n",
       "      <th>title</th>\n",
       "      <th>link</th>\n",
       "      <th>link_alternative</th>\n",
       "      <th>link_icon</th>\n",
       "      <th>summary</th>\n",
       "      <th>ingestiondate</th>\n",
       "      <th>beginposition</th>\n",
       "      <th>endposition</th>\n",
       "      <th>orbitnumber</th>\n",
       "      <th>relativeorbitnumber</th>\n",
       "      <th>...</th>\n",
       "      <th>platformidentifier</th>\n",
       "      <th>orbitdirection</th>\n",
       "      <th>platformserialidentifier</th>\n",
       "      <th>processingbaseline</th>\n",
       "      <th>processinglevel</th>\n",
       "      <th>producttype</th>\n",
       "      <th>platformname</th>\n",
       "      <th>size</th>\n",
       "      <th>uuid</th>\n",
       "      <th>geometry</th>\n",
       "    </tr>\n",
       "  </thead>\n",
       "  <tbody>\n",
       "    <tr>\n",
       "      <th>02ac22aa-f915-4cd5-b662-0d9c2f939a40</th>\n",
       "      <td>S2B_MSIL2A_20190106T151659_N0211_R125_T18NZN_2...</td>\n",
       "      <td>https://scihub.copernicus.eu/dhus/odata/v1/Pro...</td>\n",
       "      <td>https://scihub.copernicus.eu/dhus/odata/v1/Pro...</td>\n",
       "      <td>https://scihub.copernicus.eu/dhus/odata/v1/Pro...</td>\n",
       "      <td>Date: 2019-01-06T15:16:59.024Z, Instrument: MS...</td>\n",
       "      <td>2019-01-07 04:23:33.740</td>\n",
       "      <td>2019-01-06 15:16:59.024</td>\n",
       "      <td>2019-01-06 15:16:59.024</td>\n",
       "      <td>9589</td>\n",
       "      <td>125</td>\n",
       "      <td>...</td>\n",
       "      <td>2017-013A</td>\n",
       "      <td>DESCENDING</td>\n",
       "      <td>Sentinel-2B</td>\n",
       "      <td>02.11</td>\n",
       "      <td>Level-2A</td>\n",
       "      <td>S2MSI2A</td>\n",
       "      <td>Sentinel-2</td>\n",
       "      <td>979.78 MB</td>\n",
       "      <td>02ac22aa-f915-4cd5-b662-0d9c2f939a40</td>\n",
       "      <td>POLYGON ((-72.28369000000001 7.229727890841263...</td>\n",
       "    </tr>\n",
       "    <tr>\n",
       "      <th>0392ea21-83ca-4630-9d49-d15a038f121c</th>\n",
       "      <td>S2A_MSIL2A_20190121T151701_N0211_R125_T18NZN_2...</td>\n",
       "      <td>https://scihub.copernicus.eu/dhus/odata/v1/Pro...</td>\n",
       "      <td>https://scihub.copernicus.eu/dhus/odata/v1/Pro...</td>\n",
       "      <td>https://scihub.copernicus.eu/dhus/odata/v1/Pro...</td>\n",
       "      <td>Date: 2019-01-21T15:17:01.024Z, Instrument: MS...</td>\n",
       "      <td>2019-01-21 21:44:49.803</td>\n",
       "      <td>2019-01-21 15:17:01.024</td>\n",
       "      <td>2019-01-21 15:17:01.024</td>\n",
       "      <td>18712</td>\n",
       "      <td>125</td>\n",
       "      <td>...</td>\n",
       "      <td>2015-028A</td>\n",
       "      <td>DESCENDING</td>\n",
       "      <td>Sentinel-2A</td>\n",
       "      <td>02.11</td>\n",
       "      <td>Level-2A</td>\n",
       "      <td>S2MSI2A</td>\n",
       "      <td>Sentinel-2</td>\n",
       "      <td>1.01 GB</td>\n",
       "      <td>0392ea21-83ca-4630-9d49-d15a038f121c</td>\n",
       "      <td>POLYGON ((-72.28369000000001 7.229727890841263...</td>\n",
       "    </tr>\n",
       "    <tr>\n",
       "      <th>0ac0603d-e102-46eb-b7e9-5a10776de7cc</th>\n",
       "      <td>S2A_MSIL2A_20181222T151701_N0211_R125_T18NZN_2...</td>\n",
       "      <td>https://scihub.copernicus.eu/dhus/odata/v1/Pro...</td>\n",
       "      <td>https://scihub.copernicus.eu/dhus/odata/v1/Pro...</td>\n",
       "      <td>https://scihub.copernicus.eu/dhus/odata/v1/Pro...</td>\n",
       "      <td>Date: 2018-12-22T15:17:01.024Z, Instrument: MS...</td>\n",
       "      <td>2018-12-22 22:08:18.779</td>\n",
       "      <td>2018-12-22 15:17:01.024</td>\n",
       "      <td>2018-12-22 15:17:01.024</td>\n",
       "      <td>18283</td>\n",
       "      <td>125</td>\n",
       "      <td>...</td>\n",
       "      <td>2015-028A</td>\n",
       "      <td>DESCENDING</td>\n",
       "      <td>Sentinel-2A</td>\n",
       "      <td>02.11</td>\n",
       "      <td>Level-2A</td>\n",
       "      <td>S2MSI2A</td>\n",
       "      <td>Sentinel-2</td>\n",
       "      <td>1.05 GB</td>\n",
       "      <td>0ac0603d-e102-46eb-b7e9-5a10776de7cc</td>\n",
       "      <td>POLYGON ((-72.28369000000001 7.229727890841263...</td>\n",
       "    </tr>\n",
       "    <tr>\n",
       "      <th>257b29b0-5c13-475b-b7b6-8b486abfecc8</th>\n",
       "      <td>S2B_MSIL2A_20181227T151659_N0211_R125_T18NZN_2...</td>\n",
       "      <td>https://scihub.copernicus.eu/dhus/odata/v1/Pro...</td>\n",
       "      <td>https://scihub.copernicus.eu/dhus/odata/v1/Pro...</td>\n",
       "      <td>https://scihub.copernicus.eu/dhus/odata/v1/Pro...</td>\n",
       "      <td>Date: 2018-12-27T15:16:59.024Z, Instrument: MS...</td>\n",
       "      <td>2018-12-27 23:59:44.906</td>\n",
       "      <td>2018-12-27 15:16:59.024</td>\n",
       "      <td>2018-12-27 15:16:59.024</td>\n",
       "      <td>9446</td>\n",
       "      <td>125</td>\n",
       "      <td>...</td>\n",
       "      <td>2017-013A</td>\n",
       "      <td>DESCENDING</td>\n",
       "      <td>Sentinel-2B</td>\n",
       "      <td>02.11</td>\n",
       "      <td>Level-2A</td>\n",
       "      <td>S2MSI2A</td>\n",
       "      <td>Sentinel-2</td>\n",
       "      <td>1.08 GB</td>\n",
       "      <td>257b29b0-5c13-475b-b7b6-8b486abfecc8</td>\n",
       "      <td>POLYGON ((-72.28369000000001 7.229727890841263...</td>\n",
       "    </tr>\n",
       "    <tr>\n",
       "      <th>30138845-dbb4-420a-bc7d-3e91d08a0083</th>\n",
       "      <td>S2B_MSIL2A_20190126T151709_N0211_R125_T18NZN_2...</td>\n",
       "      <td>https://scihub.copernicus.eu/dhus/odata/v1/Pro...</td>\n",
       "      <td>https://scihub.copernicus.eu/dhus/odata/v1/Pro...</td>\n",
       "      <td>https://scihub.copernicus.eu/dhus/odata/v1/Pro...</td>\n",
       "      <td>Date: 2019-01-26T15:17:09.024Z, Instrument: MS...</td>\n",
       "      <td>2019-01-26 23:16:10.047</td>\n",
       "      <td>2019-01-26 15:17:09.024</td>\n",
       "      <td>2019-01-26 15:17:09.024</td>\n",
       "      <td>9875</td>\n",
       "      <td>125</td>\n",
       "      <td>...</td>\n",
       "      <td>2017-013A</td>\n",
       "      <td>DESCENDING</td>\n",
       "      <td>Sentinel-2B</td>\n",
       "      <td>02.11</td>\n",
       "      <td>Level-2A</td>\n",
       "      <td>S2MSI2A</td>\n",
       "      <td>Sentinel-2</td>\n",
       "      <td>946.70 MB</td>\n",
       "      <td>30138845-dbb4-420a-bc7d-3e91d08a0083</td>\n",
       "      <td>POLYGON ((-72.28369000000001 7.229727890841263...</td>\n",
       "    </tr>\n",
       "    <tr>\n",
       "      <th>6a5b4db6-08e3-4a92-b789-e4dd3d786965</th>\n",
       "      <td>S2A_MSIL2A_20190111T151701_N0211_R125_T18NZN_2...</td>\n",
       "      <td>https://scihub.copernicus.eu/dhus/odata/v1/Pro...</td>\n",
       "      <td>https://scihub.copernicus.eu/dhus/odata/v1/Pro...</td>\n",
       "      <td>https://scihub.copernicus.eu/dhus/odata/v1/Pro...</td>\n",
       "      <td>Date: 2019-01-11T15:17:01.024Z, Instrument: MS...</td>\n",
       "      <td>2019-01-11 23:07:49.021</td>\n",
       "      <td>2019-01-11 15:17:01.024</td>\n",
       "      <td>2019-01-11 15:17:01.024</td>\n",
       "      <td>18569</td>\n",
       "      <td>125</td>\n",
       "      <td>...</td>\n",
       "      <td>2015-028A</td>\n",
       "      <td>DESCENDING</td>\n",
       "      <td>Sentinel-2A</td>\n",
       "      <td>02.11</td>\n",
       "      <td>Level-2A</td>\n",
       "      <td>S2MSI2A</td>\n",
       "      <td>Sentinel-2</td>\n",
       "      <td>953.43 MB</td>\n",
       "      <td>6a5b4db6-08e3-4a92-b789-e4dd3d786965</td>\n",
       "      <td>POLYGON ((-72.28369000000001 7.229727890841263...</td>\n",
       "    </tr>\n",
       "    <tr>\n",
       "      <th>9787b2ba-4052-442d-bff9-dfe510d02b5c</th>\n",
       "      <td>S2A_MSIL2A_20190101T151701_N0211_R125_T18NZN_2...</td>\n",
       "      <td>https://scihub.copernicus.eu/dhus/odata/v1/Pro...</td>\n",
       "      <td>https://scihub.copernicus.eu/dhus/odata/v1/Pro...</td>\n",
       "      <td>https://scihub.copernicus.eu/dhus/odata/v1/Pro...</td>\n",
       "      <td>Date: 2019-01-01T15:17:01.024Z, Instrument: MS...</td>\n",
       "      <td>2019-01-01 22:08:37.169</td>\n",
       "      <td>2019-01-01 15:17:01.024</td>\n",
       "      <td>2019-01-01 15:17:01.024</td>\n",
       "      <td>18426</td>\n",
       "      <td>125</td>\n",
       "      <td>...</td>\n",
       "      <td>2015-028A</td>\n",
       "      <td>DESCENDING</td>\n",
       "      <td>Sentinel-2A</td>\n",
       "      <td>02.11</td>\n",
       "      <td>Level-2A</td>\n",
       "      <td>S2MSI2A</td>\n",
       "      <td>Sentinel-2</td>\n",
       "      <td>1.01 GB</td>\n",
       "      <td>9787b2ba-4052-442d-bff9-dfe510d02b5c</td>\n",
       "      <td>POLYGON ((-72.28369000000001 7.229727890841263...</td>\n",
       "    </tr>\n",
       "    <tr>\n",
       "      <th>ac0e01a5-10d8-412e-92db-a7c2f79776ab</th>\n",
       "      <td>S2B_MSIL2A_20190116T151709_N0211_R125_T18NZN_2...</td>\n",
       "      <td>https://scihub.copernicus.eu/dhus/odata/v1/Pro...</td>\n",
       "      <td>https://scihub.copernicus.eu/dhus/odata/v1/Pro...</td>\n",
       "      <td>https://scihub.copernicus.eu/dhus/odata/v1/Pro...</td>\n",
       "      <td>Date: 2019-01-16T15:17:09.024Z, Instrument: MS...</td>\n",
       "      <td>2019-01-17 05:19:59.976</td>\n",
       "      <td>2019-01-16 15:17:09.024</td>\n",
       "      <td>2019-01-16 15:17:09.024</td>\n",
       "      <td>9732</td>\n",
       "      <td>125</td>\n",
       "      <td>...</td>\n",
       "      <td>2017-013A</td>\n",
       "      <td>DESCENDING</td>\n",
       "      <td>Sentinel-2B</td>\n",
       "      <td>02.11</td>\n",
       "      <td>Level-2A</td>\n",
       "      <td>S2MSI2A</td>\n",
       "      <td>Sentinel-2</td>\n",
       "      <td>1.00 GB</td>\n",
       "      <td>ac0e01a5-10d8-412e-92db-a7c2f79776ab</td>\n",
       "      <td>POLYGON ((-72.28369000000001 7.229727890841263...</td>\n",
       "    </tr>\n",
       "    <tr>\n",
       "      <th>f84d83e5-9ec4-4a43-8844-19531c524985</th>\n",
       "      <td>S2B_MSIL2A_20181217T151659_N0211_R125_T18NZN_2...</td>\n",
       "      <td>https://scihub.copernicus.eu/dhus/odata/v1/Pro...</td>\n",
       "      <td>https://scihub.copernicus.eu/dhus/odata/v1/Pro...</td>\n",
       "      <td>https://scihub.copernicus.eu/dhus/odata/v1/Pro...</td>\n",
       "      <td>Date: 2018-12-17T15:16:59.024Z, Instrument: MS...</td>\n",
       "      <td>2018-12-18 00:24:08.637</td>\n",
       "      <td>2018-12-17 15:16:59.024</td>\n",
       "      <td>2018-12-17 15:16:59.024</td>\n",
       "      <td>9303</td>\n",
       "      <td>125</td>\n",
       "      <td>...</td>\n",
       "      <td>2017-013A</td>\n",
       "      <td>DESCENDING</td>\n",
       "      <td>Sentinel-2B</td>\n",
       "      <td>02.11</td>\n",
       "      <td>Level-2A</td>\n",
       "      <td>S2MSI2A</td>\n",
       "      <td>Sentinel-2</td>\n",
       "      <td>1.07 GB</td>\n",
       "      <td>f84d83e5-9ec4-4a43-8844-19531c524985</td>\n",
       "      <td>POLYGON ((-72.28369000000001 7.229727890841263...</td>\n",
       "    </tr>\n",
       "  </tbody>\n",
       "</table>\n",
       "<p>9 rows × 34 columns</p>\n",
       "</div>"
      ],
      "text/plain": [
       "                                                                                  title  \\\n",
       "02ac22aa-f915-4cd5-b662-0d9c2f939a40  S2B_MSIL2A_20190106T151659_N0211_R125_T18NZN_2...   \n",
       "0392ea21-83ca-4630-9d49-d15a038f121c  S2A_MSIL2A_20190121T151701_N0211_R125_T18NZN_2...   \n",
       "0ac0603d-e102-46eb-b7e9-5a10776de7cc  S2A_MSIL2A_20181222T151701_N0211_R125_T18NZN_2...   \n",
       "257b29b0-5c13-475b-b7b6-8b486abfecc8  S2B_MSIL2A_20181227T151659_N0211_R125_T18NZN_2...   \n",
       "30138845-dbb4-420a-bc7d-3e91d08a0083  S2B_MSIL2A_20190126T151709_N0211_R125_T18NZN_2...   \n",
       "6a5b4db6-08e3-4a92-b789-e4dd3d786965  S2A_MSIL2A_20190111T151701_N0211_R125_T18NZN_2...   \n",
       "9787b2ba-4052-442d-bff9-dfe510d02b5c  S2A_MSIL2A_20190101T151701_N0211_R125_T18NZN_2...   \n",
       "ac0e01a5-10d8-412e-92db-a7c2f79776ab  S2B_MSIL2A_20190116T151709_N0211_R125_T18NZN_2...   \n",
       "f84d83e5-9ec4-4a43-8844-19531c524985  S2B_MSIL2A_20181217T151659_N0211_R125_T18NZN_2...   \n",
       "\n",
       "                                                                                   link  \\\n",
       "02ac22aa-f915-4cd5-b662-0d9c2f939a40  https://scihub.copernicus.eu/dhus/odata/v1/Pro...   \n",
       "0392ea21-83ca-4630-9d49-d15a038f121c  https://scihub.copernicus.eu/dhus/odata/v1/Pro...   \n",
       "0ac0603d-e102-46eb-b7e9-5a10776de7cc  https://scihub.copernicus.eu/dhus/odata/v1/Pro...   \n",
       "257b29b0-5c13-475b-b7b6-8b486abfecc8  https://scihub.copernicus.eu/dhus/odata/v1/Pro...   \n",
       "30138845-dbb4-420a-bc7d-3e91d08a0083  https://scihub.copernicus.eu/dhus/odata/v1/Pro...   \n",
       "6a5b4db6-08e3-4a92-b789-e4dd3d786965  https://scihub.copernicus.eu/dhus/odata/v1/Pro...   \n",
       "9787b2ba-4052-442d-bff9-dfe510d02b5c  https://scihub.copernicus.eu/dhus/odata/v1/Pro...   \n",
       "ac0e01a5-10d8-412e-92db-a7c2f79776ab  https://scihub.copernicus.eu/dhus/odata/v1/Pro...   \n",
       "f84d83e5-9ec4-4a43-8844-19531c524985  https://scihub.copernicus.eu/dhus/odata/v1/Pro...   \n",
       "\n",
       "                                                                       link_alternative  \\\n",
       "02ac22aa-f915-4cd5-b662-0d9c2f939a40  https://scihub.copernicus.eu/dhus/odata/v1/Pro...   \n",
       "0392ea21-83ca-4630-9d49-d15a038f121c  https://scihub.copernicus.eu/dhus/odata/v1/Pro...   \n",
       "0ac0603d-e102-46eb-b7e9-5a10776de7cc  https://scihub.copernicus.eu/dhus/odata/v1/Pro...   \n",
       "257b29b0-5c13-475b-b7b6-8b486abfecc8  https://scihub.copernicus.eu/dhus/odata/v1/Pro...   \n",
       "30138845-dbb4-420a-bc7d-3e91d08a0083  https://scihub.copernicus.eu/dhus/odata/v1/Pro...   \n",
       "6a5b4db6-08e3-4a92-b789-e4dd3d786965  https://scihub.copernicus.eu/dhus/odata/v1/Pro...   \n",
       "9787b2ba-4052-442d-bff9-dfe510d02b5c  https://scihub.copernicus.eu/dhus/odata/v1/Pro...   \n",
       "ac0e01a5-10d8-412e-92db-a7c2f79776ab  https://scihub.copernicus.eu/dhus/odata/v1/Pro...   \n",
       "f84d83e5-9ec4-4a43-8844-19531c524985  https://scihub.copernicus.eu/dhus/odata/v1/Pro...   \n",
       "\n",
       "                                                                              link_icon  \\\n",
       "02ac22aa-f915-4cd5-b662-0d9c2f939a40  https://scihub.copernicus.eu/dhus/odata/v1/Pro...   \n",
       "0392ea21-83ca-4630-9d49-d15a038f121c  https://scihub.copernicus.eu/dhus/odata/v1/Pro...   \n",
       "0ac0603d-e102-46eb-b7e9-5a10776de7cc  https://scihub.copernicus.eu/dhus/odata/v1/Pro...   \n",
       "257b29b0-5c13-475b-b7b6-8b486abfecc8  https://scihub.copernicus.eu/dhus/odata/v1/Pro...   \n",
       "30138845-dbb4-420a-bc7d-3e91d08a0083  https://scihub.copernicus.eu/dhus/odata/v1/Pro...   \n",
       "6a5b4db6-08e3-4a92-b789-e4dd3d786965  https://scihub.copernicus.eu/dhus/odata/v1/Pro...   \n",
       "9787b2ba-4052-442d-bff9-dfe510d02b5c  https://scihub.copernicus.eu/dhus/odata/v1/Pro...   \n",
       "ac0e01a5-10d8-412e-92db-a7c2f79776ab  https://scihub.copernicus.eu/dhus/odata/v1/Pro...   \n",
       "f84d83e5-9ec4-4a43-8844-19531c524985  https://scihub.copernicus.eu/dhus/odata/v1/Pro...   \n",
       "\n",
       "                                                                                summary  \\\n",
       "02ac22aa-f915-4cd5-b662-0d9c2f939a40  Date: 2019-01-06T15:16:59.024Z, Instrument: MS...   \n",
       "0392ea21-83ca-4630-9d49-d15a038f121c  Date: 2019-01-21T15:17:01.024Z, Instrument: MS...   \n",
       "0ac0603d-e102-46eb-b7e9-5a10776de7cc  Date: 2018-12-22T15:17:01.024Z, Instrument: MS...   \n",
       "257b29b0-5c13-475b-b7b6-8b486abfecc8  Date: 2018-12-27T15:16:59.024Z, Instrument: MS...   \n",
       "30138845-dbb4-420a-bc7d-3e91d08a0083  Date: 2019-01-26T15:17:09.024Z, Instrument: MS...   \n",
       "6a5b4db6-08e3-4a92-b789-e4dd3d786965  Date: 2019-01-11T15:17:01.024Z, Instrument: MS...   \n",
       "9787b2ba-4052-442d-bff9-dfe510d02b5c  Date: 2019-01-01T15:17:01.024Z, Instrument: MS...   \n",
       "ac0e01a5-10d8-412e-92db-a7c2f79776ab  Date: 2019-01-16T15:17:09.024Z, Instrument: MS...   \n",
       "f84d83e5-9ec4-4a43-8844-19531c524985  Date: 2018-12-17T15:16:59.024Z, Instrument: MS...   \n",
       "\n",
       "                                               ingestiondate  \\\n",
       "02ac22aa-f915-4cd5-b662-0d9c2f939a40 2019-01-07 04:23:33.740   \n",
       "0392ea21-83ca-4630-9d49-d15a038f121c 2019-01-21 21:44:49.803   \n",
       "0ac0603d-e102-46eb-b7e9-5a10776de7cc 2018-12-22 22:08:18.779   \n",
       "257b29b0-5c13-475b-b7b6-8b486abfecc8 2018-12-27 23:59:44.906   \n",
       "30138845-dbb4-420a-bc7d-3e91d08a0083 2019-01-26 23:16:10.047   \n",
       "6a5b4db6-08e3-4a92-b789-e4dd3d786965 2019-01-11 23:07:49.021   \n",
       "9787b2ba-4052-442d-bff9-dfe510d02b5c 2019-01-01 22:08:37.169   \n",
       "ac0e01a5-10d8-412e-92db-a7c2f79776ab 2019-01-17 05:19:59.976   \n",
       "f84d83e5-9ec4-4a43-8844-19531c524985 2018-12-18 00:24:08.637   \n",
       "\n",
       "                                               beginposition  \\\n",
       "02ac22aa-f915-4cd5-b662-0d9c2f939a40 2019-01-06 15:16:59.024   \n",
       "0392ea21-83ca-4630-9d49-d15a038f121c 2019-01-21 15:17:01.024   \n",
       "0ac0603d-e102-46eb-b7e9-5a10776de7cc 2018-12-22 15:17:01.024   \n",
       "257b29b0-5c13-475b-b7b6-8b486abfecc8 2018-12-27 15:16:59.024   \n",
       "30138845-dbb4-420a-bc7d-3e91d08a0083 2019-01-26 15:17:09.024   \n",
       "6a5b4db6-08e3-4a92-b789-e4dd3d786965 2019-01-11 15:17:01.024   \n",
       "9787b2ba-4052-442d-bff9-dfe510d02b5c 2019-01-01 15:17:01.024   \n",
       "ac0e01a5-10d8-412e-92db-a7c2f79776ab 2019-01-16 15:17:09.024   \n",
       "f84d83e5-9ec4-4a43-8844-19531c524985 2018-12-17 15:16:59.024   \n",
       "\n",
       "                                                 endposition  orbitnumber  \\\n",
       "02ac22aa-f915-4cd5-b662-0d9c2f939a40 2019-01-06 15:16:59.024         9589   \n",
       "0392ea21-83ca-4630-9d49-d15a038f121c 2019-01-21 15:17:01.024        18712   \n",
       "0ac0603d-e102-46eb-b7e9-5a10776de7cc 2018-12-22 15:17:01.024        18283   \n",
       "257b29b0-5c13-475b-b7b6-8b486abfecc8 2018-12-27 15:16:59.024         9446   \n",
       "30138845-dbb4-420a-bc7d-3e91d08a0083 2019-01-26 15:17:09.024         9875   \n",
       "6a5b4db6-08e3-4a92-b789-e4dd3d786965 2019-01-11 15:17:01.024        18569   \n",
       "9787b2ba-4052-442d-bff9-dfe510d02b5c 2019-01-01 15:17:01.024        18426   \n",
       "ac0e01a5-10d8-412e-92db-a7c2f79776ab 2019-01-16 15:17:09.024         9732   \n",
       "f84d83e5-9ec4-4a43-8844-19531c524985 2018-12-17 15:16:59.024         9303   \n",
       "\n",
       "                                      relativeorbitnumber  ...  \\\n",
       "02ac22aa-f915-4cd5-b662-0d9c2f939a40                  125  ...   \n",
       "0392ea21-83ca-4630-9d49-d15a038f121c                  125  ...   \n",
       "0ac0603d-e102-46eb-b7e9-5a10776de7cc                  125  ...   \n",
       "257b29b0-5c13-475b-b7b6-8b486abfecc8                  125  ...   \n",
       "30138845-dbb4-420a-bc7d-3e91d08a0083                  125  ...   \n",
       "6a5b4db6-08e3-4a92-b789-e4dd3d786965                  125  ...   \n",
       "9787b2ba-4052-442d-bff9-dfe510d02b5c                  125  ...   \n",
       "ac0e01a5-10d8-412e-92db-a7c2f79776ab                  125  ...   \n",
       "f84d83e5-9ec4-4a43-8844-19531c524985                  125  ...   \n",
       "\n",
       "                                      platformidentifier  orbitdirection  \\\n",
       "02ac22aa-f915-4cd5-b662-0d9c2f939a40           2017-013A      DESCENDING   \n",
       "0392ea21-83ca-4630-9d49-d15a038f121c           2015-028A      DESCENDING   \n",
       "0ac0603d-e102-46eb-b7e9-5a10776de7cc           2015-028A      DESCENDING   \n",
       "257b29b0-5c13-475b-b7b6-8b486abfecc8           2017-013A      DESCENDING   \n",
       "30138845-dbb4-420a-bc7d-3e91d08a0083           2017-013A      DESCENDING   \n",
       "6a5b4db6-08e3-4a92-b789-e4dd3d786965           2015-028A      DESCENDING   \n",
       "9787b2ba-4052-442d-bff9-dfe510d02b5c           2015-028A      DESCENDING   \n",
       "ac0e01a5-10d8-412e-92db-a7c2f79776ab           2017-013A      DESCENDING   \n",
       "f84d83e5-9ec4-4a43-8844-19531c524985           2017-013A      DESCENDING   \n",
       "\n",
       "                                      platformserialidentifier  \\\n",
       "02ac22aa-f915-4cd5-b662-0d9c2f939a40               Sentinel-2B   \n",
       "0392ea21-83ca-4630-9d49-d15a038f121c               Sentinel-2A   \n",
       "0ac0603d-e102-46eb-b7e9-5a10776de7cc               Sentinel-2A   \n",
       "257b29b0-5c13-475b-b7b6-8b486abfecc8               Sentinel-2B   \n",
       "30138845-dbb4-420a-bc7d-3e91d08a0083               Sentinel-2B   \n",
       "6a5b4db6-08e3-4a92-b789-e4dd3d786965               Sentinel-2A   \n",
       "9787b2ba-4052-442d-bff9-dfe510d02b5c               Sentinel-2A   \n",
       "ac0e01a5-10d8-412e-92db-a7c2f79776ab               Sentinel-2B   \n",
       "f84d83e5-9ec4-4a43-8844-19531c524985               Sentinel-2B   \n",
       "\n",
       "                                      processingbaseline  processinglevel  \\\n",
       "02ac22aa-f915-4cd5-b662-0d9c2f939a40               02.11         Level-2A   \n",
       "0392ea21-83ca-4630-9d49-d15a038f121c               02.11         Level-2A   \n",
       "0ac0603d-e102-46eb-b7e9-5a10776de7cc               02.11         Level-2A   \n",
       "257b29b0-5c13-475b-b7b6-8b486abfecc8               02.11         Level-2A   \n",
       "30138845-dbb4-420a-bc7d-3e91d08a0083               02.11         Level-2A   \n",
       "6a5b4db6-08e3-4a92-b789-e4dd3d786965               02.11         Level-2A   \n",
       "9787b2ba-4052-442d-bff9-dfe510d02b5c               02.11         Level-2A   \n",
       "ac0e01a5-10d8-412e-92db-a7c2f79776ab               02.11         Level-2A   \n",
       "f84d83e5-9ec4-4a43-8844-19531c524985               02.11         Level-2A   \n",
       "\n",
       "                                      producttype  platformname       size  \\\n",
       "02ac22aa-f915-4cd5-b662-0d9c2f939a40      S2MSI2A    Sentinel-2  979.78 MB   \n",
       "0392ea21-83ca-4630-9d49-d15a038f121c      S2MSI2A    Sentinel-2    1.01 GB   \n",
       "0ac0603d-e102-46eb-b7e9-5a10776de7cc      S2MSI2A    Sentinel-2    1.05 GB   \n",
       "257b29b0-5c13-475b-b7b6-8b486abfecc8      S2MSI2A    Sentinel-2    1.08 GB   \n",
       "30138845-dbb4-420a-bc7d-3e91d08a0083      S2MSI2A    Sentinel-2  946.70 MB   \n",
       "6a5b4db6-08e3-4a92-b789-e4dd3d786965      S2MSI2A    Sentinel-2  953.43 MB   \n",
       "9787b2ba-4052-442d-bff9-dfe510d02b5c      S2MSI2A    Sentinel-2    1.01 GB   \n",
       "ac0e01a5-10d8-412e-92db-a7c2f79776ab      S2MSI2A    Sentinel-2    1.00 GB   \n",
       "f84d83e5-9ec4-4a43-8844-19531c524985      S2MSI2A    Sentinel-2    1.07 GB   \n",
       "\n",
       "                                                                      uuid  \\\n",
       "02ac22aa-f915-4cd5-b662-0d9c2f939a40  02ac22aa-f915-4cd5-b662-0d9c2f939a40   \n",
       "0392ea21-83ca-4630-9d49-d15a038f121c  0392ea21-83ca-4630-9d49-d15a038f121c   \n",
       "0ac0603d-e102-46eb-b7e9-5a10776de7cc  0ac0603d-e102-46eb-b7e9-5a10776de7cc   \n",
       "257b29b0-5c13-475b-b7b6-8b486abfecc8  257b29b0-5c13-475b-b7b6-8b486abfecc8   \n",
       "30138845-dbb4-420a-bc7d-3e91d08a0083  30138845-dbb4-420a-bc7d-3e91d08a0083   \n",
       "6a5b4db6-08e3-4a92-b789-e4dd3d786965  6a5b4db6-08e3-4a92-b789-e4dd3d786965   \n",
       "9787b2ba-4052-442d-bff9-dfe510d02b5c  9787b2ba-4052-442d-bff9-dfe510d02b5c   \n",
       "ac0e01a5-10d8-412e-92db-a7c2f79776ab  ac0e01a5-10d8-412e-92db-a7c2f79776ab   \n",
       "f84d83e5-9ec4-4a43-8844-19531c524985  f84d83e5-9ec4-4a43-8844-19531c524985   \n",
       "\n",
       "                                                                               geometry  \n",
       "02ac22aa-f915-4cd5-b662-0d9c2f939a40  POLYGON ((-72.28369000000001 7.229727890841263...  \n",
       "0392ea21-83ca-4630-9d49-d15a038f121c  POLYGON ((-72.28369000000001 7.229727890841263...  \n",
       "0ac0603d-e102-46eb-b7e9-5a10776de7cc  POLYGON ((-72.28369000000001 7.229727890841263...  \n",
       "257b29b0-5c13-475b-b7b6-8b486abfecc8  POLYGON ((-72.28369000000001 7.229727890841263...  \n",
       "30138845-dbb4-420a-bc7d-3e91d08a0083  POLYGON ((-72.28369000000001 7.229727890841263...  \n",
       "6a5b4db6-08e3-4a92-b789-e4dd3d786965  POLYGON ((-72.28369000000001 7.229727890841263...  \n",
       "9787b2ba-4052-442d-bff9-dfe510d02b5c  POLYGON ((-72.28369000000001 7.229727890841263...  \n",
       "ac0e01a5-10d8-412e-92db-a7c2f79776ab  POLYGON ((-72.28369000000001 7.229727890841263...  \n",
       "f84d83e5-9ec4-4a43-8844-19531c524985  POLYGON ((-72.28369000000001 7.229727890841263...  \n",
       "\n",
       "[9 rows x 34 columns]"
      ]
     },
     "execution_count": 13,
     "metadata": {},
     "output_type": "execute_result"
    }
   ],
   "source": [
    "fk = [] #filtered keys\n",
    "for k, v in products.items(): \n",
    "    if all(e in v['title'].split('_') for e in ['MSIL2A',tile]): # MSIL2A it's product type\n",
    "        #print(k, v['title']) \n",
    "        fk.append(k)\n",
    "filtered = { k: products[k] for k in fk }\n",
    "api.to_geodataframe(filtered)"
   ]
  },
  {
   "cell_type": "markdown",
   "metadata": {},
   "source": [
    "Then, let's use the filtered dataframe to download the files."
   ]
  },
  {
   "cell_type": "code",
   "execution_count": 14,
   "metadata": {},
   "outputs": [
    {
     "name": "stderr",
     "output_type": "stream",
     "text": [
      "Downloading: 100%|██████████| 993M/993M [59:49<00:00, 115kB/s]   \n",
      "MD5 checksumming: 100%|██████████| 993M/993M [00:02<00:00, 412MB/s]  \n",
      "Downloading: 100%|██████████| 1.09G/1.09G [58:14<00:00, 311kB/s]  \n",
      "MD5 checksumming: 100%|██████████| 1.09G/1.09G [00:02<00:00, 466MB/s]\n",
      "Downloading: 100%|██████████| 1.08G/1.08G [1:07:44<00:00, 1.04MB/s]\n",
      "MD5 checksumming: 100%|██████████| 1.08G/1.08G [00:02<00:00, 408MB/s] \n",
      "Downloading: 100%|██████████| 1.00G/1.00G [53:04<00:00, 535kB/s]  \n",
      "MD5 checksumming: 100%|██████████| 1.00G/1.00G [00:02<00:00, 466MB/s]\n",
      "Downloading: 100%|██████████| 1.03G/1.03G [1:08:48<00:00, 249kB/s]\n",
      "MD5 checksumming: 100%|██████████| 1.03G/1.03G [00:02<00:00, 384MB/s] \n",
      "Downloading: 100%|██████████| 1.09G/1.09G [1:26:31<00:00, 281kB/s]\n",
      "MD5 checksumming: 100%|██████████| 1.09G/1.09G [00:02<00:00, 396MB/s] \n",
      "Downloading: 100%|██████████| 1.16G/1.16G [1:14:56<00:00, 539kB/s] \n",
      "MD5 checksumming: 100%|██████████| 1.16G/1.16G [00:02<00:00, 462MB/s]\n",
      "Downloading: 100%|██████████| 1.13G/1.13G [1:17:48<00:00, 190kB/s]\n",
      "MD5 checksumming: 100%|██████████| 1.13G/1.13G [00:06<00:00, 173MB/s] \n",
      "Downloading: 100%|██████████| 1.15G/1.15G [1:05:14<00:00, 286kB/s] \n",
      "MD5 checksumming: 100%|██████████| 1.15G/1.15G [00:03<00:00, 300MB/s] \n"
     ]
    },
    {
     "data": {
      "text/plain": [
       "(OrderedDict([('30138845-dbb4-420a-bc7d-3e91d08a0083',\n",
       "               {'id': '30138845-dbb4-420a-bc7d-3e91d08a0083',\n",
       "                'title': 'S2B_MSIL2A_20190126T151709_N0211_R125_T18NZN_20190126T191831',\n",
       "                'size': 992749695,\n",
       "                'md5': '4C8562B5845B744961EEBEA2F292AD76',\n",
       "                'date': datetime.datetime(2019, 1, 26, 15, 17, 9, 24000),\n",
       "                'footprint': 'POLYGON((-72.28369 7.229727890841263,-71.29068 7.222725668752657,-71.29819 6.231557817285321,-72.289215 6.23759121662033,-72.28369 7.229727890841263))',\n",
       "                'url': \"https://scihub.copernicus.eu/dhus/odata/v1/Products('30138845-dbb4-420a-bc7d-3e91d08a0083')/$value\",\n",
       "                'path': './S2B_MSIL2A_20190126T151709_N0211_R125_T18NZN_20190126T191831.zip',\n",
       "                'downloaded_bytes': 992749695}),\n",
       "              ('0392ea21-83ca-4630-9d49-d15a038f121c',\n",
       "               {'id': '0392ea21-83ca-4630-9d49-d15a038f121c',\n",
       "                'title': 'S2A_MSIL2A_20190121T151701_N0211_R125_T18NZN_20190121T173848',\n",
       "                'size': 1085598458,\n",
       "                'md5': '41A3019A26D818853D2B13884841C3D5',\n",
       "                'date': datetime.datetime(2019, 1, 21, 15, 17, 1, 24000),\n",
       "                'footprint': 'POLYGON((-72.28369 7.229727890841263,-71.29068 7.222725668752657,-71.29819 6.231557817285321,-72.289215 6.23759121662033,-72.28369 7.229727890841263))',\n",
       "                'url': \"https://scihub.copernicus.eu/dhus/odata/v1/Products('0392ea21-83ca-4630-9d49-d15a038f121c')/$value\",\n",
       "                'path': './S2A_MSIL2A_20190121T151701_N0211_R125_T18NZN_20190121T173848.zip',\n",
       "                'downloaded_bytes': 1085598458}),\n",
       "              ('ac0e01a5-10d8-412e-92db-a7c2f79776ab',\n",
       "               {'id': 'ac0e01a5-10d8-412e-92db-a7c2f79776ab',\n",
       "                'title': 'S2B_MSIL2A_20190116T151709_N0211_R125_T18NZN_20190116T191916',\n",
       "                'size': 1076209656,\n",
       "                'md5': '665401E868F3C8F3C52C297ADB9DF5B1',\n",
       "                'date': datetime.datetime(2019, 1, 16, 15, 17, 9, 24000),\n",
       "                'footprint': 'POLYGON((-72.28369 7.229727890841263,-71.29068 7.222725668752657,-71.29819 6.231557817285321,-72.289215 6.23759121662033,-72.28369 7.229727890841263))',\n",
       "                'url': \"https://scihub.copernicus.eu/dhus/odata/v1/Products('ac0e01a5-10d8-412e-92db-a7c2f79776ab')/$value\",\n",
       "                'path': './S2B_MSIL2A_20190116T151709_N0211_R125_T18NZN_20190116T191916.zip',\n",
       "                'downloaded_bytes': 1076209656}),\n",
       "              ('6a5b4db6-08e3-4a92-b789-e4dd3d786965',\n",
       "               {'id': '6a5b4db6-08e3-4a92-b789-e4dd3d786965',\n",
       "                'title': 'S2A_MSIL2A_20190111T151701_N0211_R125_T18NZN_20190111T173548',\n",
       "                'size': 999802066,\n",
       "                'md5': '21197D15D15D46EDC4D5F57F22941748',\n",
       "                'date': datetime.datetime(2019, 1, 11, 15, 17, 1, 24000),\n",
       "                'footprint': 'POLYGON((-72.28369 7.229727890841263,-71.29068 7.222725668752657,-71.29819 6.231557817285321,-72.289215 6.23759121662033,-72.28369 7.229727890841263))',\n",
       "                'url': \"https://scihub.copernicus.eu/dhus/odata/v1/Products('6a5b4db6-08e3-4a92-b789-e4dd3d786965')/$value\",\n",
       "                'path': './S2A_MSIL2A_20190111T151701_N0211_R125_T18NZN_20190111T173548.zip',\n",
       "                'downloaded_bytes': 999802066}),\n",
       "              ('02ac22aa-f915-4cd5-b662-0d9c2f939a40',\n",
       "               {'id': '02ac22aa-f915-4cd5-b662-0d9c2f939a40',\n",
       "                'title': 'S2B_MSIL2A_20190106T151659_N0211_R125_T18NZN_20190106T204808',\n",
       "                'size': 1027433552,\n",
       "                'md5': '008B5A0985E2EA80447875A12CC38BBE',\n",
       "                'date': datetime.datetime(2019, 1, 6, 15, 16, 59, 24000),\n",
       "                'footprint': 'POLYGON((-72.28369 7.229727890841263,-71.29068 7.222725668752657,-71.29819 6.231557817285321,-72.289215 6.23759121662033,-72.28369 7.229727890841263))',\n",
       "                'url': \"https://scihub.copernicus.eu/dhus/odata/v1/Products('02ac22aa-f915-4cd5-b662-0d9c2f939a40')/$value\",\n",
       "                'path': './S2B_MSIL2A_20190106T151659_N0211_R125_T18NZN_20190106T204808.zip',\n",
       "                'downloaded_bytes': 1027433552}),\n",
       "              ('9787b2ba-4052-442d-bff9-dfe510d02b5c',\n",
       "               {'id': '9787b2ba-4052-442d-bff9-dfe510d02b5c',\n",
       "                'title': 'S2A_MSIL2A_20190101T151701_N0211_R125_T18NZN_20190101T173618',\n",
       "                'size': 1087556911,\n",
       "                'md5': '9A3ED24F171353F5F91BDA3F463B901C',\n",
       "                'date': datetime.datetime(2019, 1, 1, 15, 17, 1, 24000),\n",
       "                'footprint': 'POLYGON((-72.28369 7.229727890841263,-71.29068 7.222725668752657,-71.29819 6.231557817285321,-72.289215 6.23759121662033,-72.28369 7.229727890841263))',\n",
       "                'url': \"https://scihub.copernicus.eu/dhus/odata/v1/Products('9787b2ba-4052-442d-bff9-dfe510d02b5c')/$value\",\n",
       "                'path': './S2A_MSIL2A_20190101T151701_N0211_R125_T18NZN_20190101T173618.zip',\n",
       "                'downloaded_bytes': 1087556911}),\n",
       "              ('257b29b0-5c13-475b-b7b6-8b486abfecc8',\n",
       "               {'id': '257b29b0-5c13-475b-b7b6-8b486abfecc8',\n",
       "                'title': 'S2B_MSIL2A_20181227T151659_N0211_R125_T18NZN_20181227T192300',\n",
       "                'size': 1162404728,\n",
       "                'md5': '4FE597E1287BF8EBFEA56ABC308230AA',\n",
       "                'date': datetime.datetime(2018, 12, 27, 15, 16, 59, 24000),\n",
       "                'footprint': 'POLYGON((-72.28369 7.229727890841263,-71.29068 7.222725668752657,-71.29819 6.231557817285321,-72.289215 6.23759121662033,-72.28369 7.229727890841263))',\n",
       "                'url': \"https://scihub.copernicus.eu/dhus/odata/v1/Products('257b29b0-5c13-475b-b7b6-8b486abfecc8')/$value\",\n",
       "                'path': './S2B_MSIL2A_20181227T151659_N0211_R125_T18NZN_20181227T192300.zip',\n",
       "                'downloaded_bytes': 1162404728}),\n",
       "              ('0ac0603d-e102-46eb-b7e9-5a10776de7cc',\n",
       "               {'id': '0ac0603d-e102-46eb-b7e9-5a10776de7cc',\n",
       "                'title': 'S2A_MSIL2A_20181222T151701_N0211_R125_T18NZN_20181222T173819',\n",
       "                'size': 1129044775,\n",
       "                'md5': 'C4ED164F659D7ED4E2F0266C573ADAAB',\n",
       "                'date': datetime.datetime(2018, 12, 22, 15, 17, 1, 24000),\n",
       "                'footprint': 'POLYGON((-72.28369 7.229727890841263,-71.29068 7.222725668752657,-71.29819 6.231557817285321,-72.289215 6.23759121662033,-72.28369 7.229727890841263))',\n",
       "                'url': \"https://scihub.copernicus.eu/dhus/odata/v1/Products('0ac0603d-e102-46eb-b7e9-5a10776de7cc')/$value\",\n",
       "                'path': './S2A_MSIL2A_20181222T151701_N0211_R125_T18NZN_20181222T173819.zip',\n",
       "                'downloaded_bytes': 1129044775}),\n",
       "              ('f84d83e5-9ec4-4a43-8844-19531c524985',\n",
       "               {'id': 'f84d83e5-9ec4-4a43-8844-19531c524985',\n",
       "                'title': 'S2B_MSIL2A_20181217T151659_N0211_R125_T18NZN_20181217T191635',\n",
       "                'size': 1151078661,\n",
       "                'md5': '28EB0D1F95BDD4E5D0B5630F77653E18',\n",
       "                'date': datetime.datetime(2018, 12, 17, 15, 16, 59, 24000),\n",
       "                'footprint': 'POLYGON((-72.28369 7.229727890841263,-71.29068 7.222725668752657,-71.29819 6.231557817285321,-72.289215 6.23759121662033,-72.28369 7.229727890841263))',\n",
       "                'url': \"https://scihub.copernicus.eu/dhus/odata/v1/Products('f84d83e5-9ec4-4a43-8844-19531c524985')/$value\",\n",
       "                'path': './S2B_MSIL2A_20181217T151659_N0211_R125_T18NZN_20181217T191635.zip',\n",
       "                'downloaded_bytes': 1151078661})]),\n",
       " set())"
      ]
     },
     "execution_count": 14,
     "metadata": {},
     "output_type": "execute_result"
    }
   ],
   "source": [
    "api.download_all(filtered)"
   ]
  },
  {
   "cell_type": "markdown",
   "metadata": {},
   "source": [
    "Unzip file S2B_MSIL2A_20190126T151709_N0211_R125_T18NZN... as we mentioned before."
   ]
  },
  {
   "cell_type": "code",
   "execution_count": 4,
   "metadata": {},
   "outputs": [],
   "source": [
    "imagePath = \"./S2B_MSIL2A_20190126T151709_N0211_R125_T18NZN_20190126T191831.SAFE/GRANULE/L2A_T18NZN_A009875_20190126T151946/IMG_DATA/\""
   ]
  },
  {
   "cell_type": "markdown",
   "metadata": {},
   "source": [
    "Inside of this directory are 3 folders."
   ]
  },
  {
   "cell_type": "code",
   "execution_count": 5,
   "metadata": {},
   "outputs": [
    {
     "data": {
      "text/plain": [
       "['R60m', 'R10m', 'R20m']"
      ]
     },
     "execution_count": 5,
     "metadata": {},
     "output_type": "execute_result"
    }
   ],
   "source": [
    "os.listdir(imagePath)"
   ]
  },
  {
   "cell_type": "markdown",
   "metadata": {},
   "source": [
    "Inside of these folders are rasters at 10, 20 and 60 meters of resolution. Let's check TCI image which is a 3 banded raster."
   ]
  },
  {
   "cell_type": "code",
   "execution_count": 6,
   "metadata": {},
   "outputs": [
    {
     "name": "stdout",
     "output_type": "stream",
     "text": [
      "Driver: JP2OpenJPEG/JPEG-2000 driver based on OpenJPEG library\r\n",
      "Files: ./S2B_MSIL2A_20190126T151709_N0211_R125_T18NZN_20190126T191831.SAFE/GRANULE/L2A_T18NZN_A009875_20190126T151946/IMG_DATA/R10m/T18NZN_20190126T151709_TCI_10m.jp2\r\n",
      "Size is 10980, 10980\r\n",
      "Coordinate System is:\r\n",
      "PROJCS[\"WGS 84 / UTM zone 18N\",\r\n",
      "    GEOGCS[\"WGS 84\",\r\n",
      "        DATUM[\"WGS_1984\",\r\n",
      "            SPHEROID[\"WGS 84\",6378137,298.257223563,\r\n",
      "                AUTHORITY[\"EPSG\",\"7030\"]],\r\n",
      "            AUTHORITY[\"EPSG\",\"6326\"]],\r\n",
      "        PRIMEM[\"Greenwich\",0,\r\n",
      "            AUTHORITY[\"EPSG\",\"8901\"]],\r\n",
      "        UNIT[\"degree\",0.0174532925199433,\r\n",
      "            AUTHORITY[\"EPSG\",\"9122\"]],\r\n",
      "        AXIS[\"Latitude\",NORTH],\r\n",
      "        AXIS[\"Longitude\",EAST],\r\n",
      "        AUTHORITY[\"EPSG\",\"4326\"]],\r\n",
      "    PROJECTION[\"Transverse_Mercator\"],\r\n",
      "    PARAMETER[\"latitude_of_origin\",0],\r\n",
      "    PARAMETER[\"central_meridian\",-75],\r\n",
      "    PARAMETER[\"scale_factor\",0.9996],\r\n",
      "    PARAMETER[\"false_easting\",500000],\r\n",
      "    PARAMETER[\"false_northing\",0],\r\n",
      "    UNIT[\"metre\",1,\r\n",
      "        AUTHORITY[\"EPSG\",\"9001\"]],\r\n",
      "    AXIS[\"Easting\",EAST],\r\n",
      "    AXIS[\"Northing\",NORTH],\r\n",
      "    AUTHORITY[\"EPSG\",\"32618\"]]\r\n",
      "Origin = (799980.000000000000000,800040.000000000000000)\r\n",
      "Pixel Size = (10.000000000000000,-10.000000000000000)\r\n",
      "Image Structure Metadata:\r\n",
      "  INTERLEAVE=PIXEL\r\n",
      "Corner Coordinates:\r\n",
      "Upper Left  (  799980.000,  800040.000) ( 72d17' 1.27\"W,  7d13'47.02\"N)\r\n",
      "Lower Left  (  799980.000,  690240.000) ( 72d17'21.13\"W,  6d14'15.33\"N)\r\n",
      "Upper Right (  909780.000,  800040.000) ( 71d17'26.45\"W,  7d13'21.81\"N)\r\n",
      "Lower Right (  909780.000,  690240.000) ( 71d17'53.53\"W,  6d13'53.61\"N)\r\n",
      "Center      (  854880.000,  745140.000) ( 71d47'25.59\"W,  6d43'50.37\"N)\r\n",
      "Band 1 Block=1024x1024 Type=Byte, ColorInterp=Red\r\n",
      "  Overviews: 5490x5490, 2745x2745, 1372x1372, 686x686\r\n",
      "  Overviews: arbitrary\r\n",
      "  Image Structure Metadata:\r\n",
      "    COMPRESSION=JPEG2000\r\n",
      "Band 2 Block=1024x1024 Type=Byte, ColorInterp=Green\r\n",
      "  Overviews: 5490x5490, 2745x2745, 1372x1372, 686x686\r\n",
      "  Overviews: arbitrary\r\n",
      "  Image Structure Metadata:\r\n",
      "    COMPRESSION=JPEG2000\r\n",
      "Band 3 Block=1024x1024 Type=Byte, ColorInterp=Blue\r\n",
      "  Overviews: 5490x5490, 2745x2745, 1372x1372, 686x686\r\n",
      "  Overviews: arbitrary\r\n",
      "  Image Structure Metadata:\r\n",
      "    COMPRESSION=JPEG2000\r\n"
     ]
    }
   ],
   "source": [
    "!gdalinfo ./S2B_MSIL2A_20190126T151709_N0211_R125_T18NZN_20190126T191831.SAFE/GRANULE/L2A_T18NZN_A009875_20190126T151946/IMG_DATA/R10m/T18NZN_20190126T151709_TCI_10m.jp2"
   ]
  },
  {
   "cell_type": "code",
   "execution_count": null,
   "metadata": {},
   "outputs": [],
   "source": []
  },
  {
   "cell_type": "code",
   "execution_count": 7,
   "metadata": {},
   "outputs": [
    {
     "name": "stdout",
     "output_type": "stream",
     "text": [
      "./S2B_MSIL2A_20190126T151709_N0211_R125_T18NZN_20190126T191831.SAFE/GRANULE/L2A_T18NZN_A009875_20190126T151946/IMG_DATA/\n"
     ]
    }
   ],
   "source": [
    "print(imagePath)"
   ]
  },
  {
   "cell_type": "markdown",
   "metadata": {},
   "source": [
    "In order to visualize on the notebook the images, I've built a function to load pixels."
   ]
  },
  {
   "cell_type": "code",
   "execution_count": 8,
   "metadata": {},
   "outputs": [],
   "source": [
    "import glob\n",
    "import rasterio\n",
    "from rasterio import plot\n",
    "import matplotlib.pyplot as plt\n",
    "%matplotlib inline\n",
    "#imagePath = '../data/2019-01/S2B_MSIL1C_20190129T152639_N0207_R025_T18PYQ_20190129T201832.SAFE/GRANULE/L1C_T18PYQ_A009918_20190129T152639/IMG_DATA/'"
   ]
  },
  {
   "cell_type": "code",
   "execution_count": 9,
   "metadata": {},
   "outputs": [],
   "source": [
    "# def load_data_bands(path,bands='bgrn'):\n",
    "#     bmd = {'bgrn':['02','03','04','08'],\n",
    "#            'rgb':['04','03','02'],\n",
    "#            'all':['01','02','03','04','05','06','07','08','09','10','11','12']} #dictionary bands map\n",
    "#     arrs = []\n",
    "#     meta = None\n",
    "#     try:\n",
    "#         jp2s=bmd[bands]\n",
    "#         for jp2 in jp2s:\n",
    "#             with rasterio.open(glob.glob(path+'*B'+jp2+'.jp2')[0]) as f:\n",
    "#                 print(f)\n",
    "#                 arrs.append(f.read(1))\n",
    "#             if jp2 == '02':\n",
    "#                 meta = f.meta\n",
    "#         if bands in {'bgrn','rgb'}: \n",
    "#             data = np.array(arrs,dtype=arrs[0].dtype)\n",
    "#         else: \n",
    "#             data = arrs\n",
    "#         return data, meta\n",
    "#     except:\n",
    "#         print('bands map not defined')\n",
    "#         return None, None"
   ]
  },
  {
   "cell_type": "code",
   "execution_count": 9,
   "metadata": {},
   "outputs": [],
   "source": [
    "img_tci = rasterio.open(imagePath+\"R10m/T18NZN_20190126T151709_TCI_10m.jp2\",driver='JP2OpenJPEG')"
   ]
  },
  {
   "cell_type": "code",
   "execution_count": 10,
   "metadata": {},
   "outputs": [
    {
     "data": {
      "text/plain": [
       "{'driver': 'JP2OpenJPEG',\n",
       " 'dtype': 'uint8',\n",
       " 'nodata': None,\n",
       " 'width': 10980,\n",
       " 'height': 10980,\n",
       " 'count': 3,\n",
       " 'crs': CRS({'init': 'epsg:32618'}),\n",
       " 'transform': Affine(10.0, 0.0, 799980.0,\n",
       "        0.0, -10.0, 800040.0)}"
      ]
     },
     "execution_count": 10,
     "metadata": {},
     "output_type": "execute_result"
    }
   ],
   "source": [
    "img_tci.meta #raster metadata"
   ]
  },
  {
   "cell_type": "code",
   "execution_count": 12,
   "metadata": {},
   "outputs": [
    {
     "data": {
      "text/plain": [
       "10980"
      ]
     },
     "execution_count": 12,
     "metadata": {},
     "output_type": "execute_result"
    }
   ],
   "source": [
    "#number of raster column\n",
    "img_tci.width"
   ]
  },
  {
   "cell_type": "code",
   "execution_count": 13,
   "metadata": {},
   "outputs": [
    {
     "data": {
      "text/plain": [
       "10980"
      ]
     },
     "execution_count": 13,
     "metadata": {},
     "output_type": "execute_result"
    }
   ],
   "source": [
    "#number of raster rows\n",
    "img_tci.height"
   ]
  },
  {
   "cell_type": "code",
   "execution_count": 14,
   "metadata": {},
   "outputs": [],
   "source": [
    "#plot.show_hist(img_tci) #image histogram stucks on my laptop"
   ]
  },
  {
   "cell_type": "code",
   "execution_count": 11,
   "metadata": {},
   "outputs": [
    {
     "name": "stdout",
     "output_type": "stream",
     "text": [
      "Normalized bands\n",
      "0.0 - 1.0 mean: 0.8569608798804994\n",
      "0.0 - 1.0 mean: 0.8694172453205642\n",
      "0.0 - 1.0 mean: 0.8638265995513397\n"
     ]
    }
   ],
   "source": [
    "#visualization\n",
    "# Read the grid values into numpy arrays\n",
    "r = img_tci.read(3)\n",
    "g = img_tci.read(2)\n",
    "b = img_tci.read(1)\n",
    "\n",
    "# Function to normalize the grid values\n",
    "def normalize(array):\n",
    "    \"\"\"Normalizes numpy arrays into scale 0.0 - 1.0\"\"\"\n",
    "    array_min, array_max = array.min(), array.max()\n",
    "    return ((array - array_min)/(array_max - array_min))\n",
    "\n",
    "# Normalize the bands\n",
    "r = normalize(r)\n",
    "g = normalize(g)\n",
    "b = normalize(b)\n",
    "\n",
    "print(\"Normalized bands\")\n",
    "print(r.min(), '-', r.max(), 'mean:', r.mean())\n",
    "print(g.min(), '-', g.max(), 'mean:', g.mean())\n",
    "print(b.min(), '-', b.max(), 'mean:', b.mean())"
   ]
  },
  {
   "cell_type": "code",
   "execution_count": 12,
   "metadata": {},
   "outputs": [],
   "source": [
    "# Create RGB natural color composite\n",
    "rgb = np.dstack((r, g, b))\n",
    "\n",
    "# Let's see how our color composite looks like\n",
    "#plt.imshow(rgb)"
   ]
  },
  {
   "cell_type": "code",
   "execution_count": 14,
   "metadata": {},
   "outputs": [
    {
     "data": {
      "text/plain": [
       "(10980, 10980, 3)"
      ]
     },
     "execution_count": 14,
     "metadata": {},
     "output_type": "execute_result"
    }
   ],
   "source": [
    "rgb.shape"
   ]
  },
  {
   "cell_type": "code",
   "execution_count": 15,
   "metadata": {},
   "outputs": [
    {
     "data": {
      "image/png": "[encoded data removed]",
      "text/plain": [
       "<Figure size 432x288 with 1 Axes>"
      ]
     },
     "metadata": {
      "needs_background": "light"
     },
     "output_type": "display_data"
    },
    {
     "data": {
      "text/plain": [
       "<matplotlib.axes._subplots.AxesSubplot at 0x7fa0644f3cc0>"
      ]
     },
     "execution_count": 15,
     "metadata": {},
     "output_type": "execute_result"
    }
   ],
   "source": [
    "rasterio.plot.show(img_tci.read(), transform=img_tci.transform)"
   ]
  },
  {
   "cell_type": "code",
   "execution_count": null,
   "metadata": {},
   "outputs": [],
   "source": []
  }
 ],
 "metadata": {
  "kernelspec": {
   "display_name": "Python 3",
   "language": "python",
   "name": "python3"
  },
  "language_info": {
   "codemirror_mode": {
    "name": "ipython",
    "version": 3
   },
   "file_extension": ".py",
   "mimetype": "text/x-python",
   "name": "python",
   "nbconvert_exporter": "python",
   "pygments_lexer": "ipython3",
   "version": "3.7.3"
  }
 },
 "nbformat": 4,
 "nbformat_minor": 2
}
