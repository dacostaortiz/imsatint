{
 "cells": [
  {
   "cell_type": "markdown",
   "metadata": {},
   "source": [
    "Make sure that libraries are already installed."
   ]
  },
  {
   "cell_type": "code",
   "execution_count": 13,
   "metadata": {},
   "outputs": [
    {
     "name": "stdout",
     "output_type": "stream",
     "text": [
      "Python Version 3.6.7\n",
      "GDAL Version 3.0.0\n"
     ]
    }
   ],
   "source": [
    "import platform\n",
    "import os, sys\n",
    "import numpy as np\n",
    "from osgeo import gdal\n",
    "gdal.UseExceptions()     \n",
    "\n",
    "print(\"Python Version\",platform.python_version())\n",
    "print(\"GDAL Version\", gdal.__version__)"
   ]
  },
  {
   "cell_type": "markdown",
   "metadata": {},
   "source": [
    "As long as Sentinel-2 data is stored in [JPEG2000 format](https://github.com/uclouvain/openjpeg), we need the \"driver\" that understands this image compression format which is known as a .jp2 file. So, we have to check it's installation as well."
   ]
  },
  {
   "cell_type": "code",
   "execution_count": 11,
   "metadata": {},
   "outputs": [
    {
     "name": "stdout",
     "output_type": "stream",
     "text": [
      "  JPEG2000 -raster,vector- (rwv): JPEG-2000 part 1 (ISO/IEC 15444-1), based on Jasper library\r\n"
     ]
    }
   ],
   "source": [
    "!gdalinfo --formats | grep JPEG2000"
   ]
  },
  {
   "cell_type": "markdown",
   "metadata": {},
   "source": [
    "Get testing data\n",
    "\n",
    "Download from copernicus the following files:\n",
    "\n",
    "T18NZN_20181217T151659_TCI_10m.jp2\n",
    "\n",
    "T18NZN_20181222T151701_TCI_10m.jp2\n",
    "\n",
    "T18NZN_20190106T151659_TCI_10m.jp2\n",
    "\n",
    "T18NZN_20190111T151701_TCI_10m.jp2\n",
    "\n",
    "T18NZN_20190126T151709_TCI_10m.jp2"
   ]
  },
  {
   "cell_type": "code",
   "execution_count": 6,
   "metadata": {},
   "outputs": [
    {
     "name": "stdout",
     "output_type": "stream",
     "text": [
      "Driver: JPEG2000/JPEG-2000 part 1 (ISO/IEC 15444-1), based on Jasper library\n",
      "Files: ../tiler/T18NZN_20181217T151659_TCI_10m.jp2\n",
      "Size is 10980, 10980\n",
      "Coordinate System is:\n",
      "PROJCS[\"WGS 84 / UTM zone 18N\",\n",
      "    GEOGCS[\"WGS 84\",\n",
      "        DATUM[\"WGS_1984\",\n",
      "            SPHEROID[\"WGS 84\",6378137,298.257223563,\n",
      "                AUTHORITY[\"EPSG\",\"7030\"]],\n",
      "            AUTHORITY[\"EPSG\",\"6326\"]],\n",
      "        PRIMEM[\"Greenwich\",0,\n",
      "            AUTHORITY[\"EPSG\",\"8901\"]],\n",
      "        UNIT[\"degree\",0.0174532925199433,\n",
      "            AUTHORITY[\"EPSG\",\"9122\"]],\n",
      "        AUTHORITY[\"EPSG\",\"4326\"]],\n",
      "    PROJECTION[\"Transverse_Mercator\"],\n",
      "    PARAMETER[\"latitude_of_origin\",0],\n",
      "    PARAMETER[\"central_meridian\",-75],\n",
      "    PARAMETER[\"scale_factor\",0.9996],\n",
      "    PARAMETER[\"false_easting\",500000],\n",
      "    PARAMETER[\"false_northing\",0],\n",
      "    UNIT[\"metre\",1,\n",
      "        AUTHORITY[\"EPSG\",\"9001\"]],\n",
      "    AXIS[\"Easting\",EAST],\n",
      "    AXIS[\"Northing\",NORTH],\n",
      "    AUTHORITY[\"EPSG\",\"32618\"]]\n",
      "Origin = (799980.000000000000000,800040.000000000000000)\n",
      "Pixel Size = (10.000000000000000,-10.000000000000000)\n",
      "Corner Coordinates:\n",
      "Upper Left  (  799980.000,  800040.000) (  7d13'47.02\"E, 72d17' 1.27\"S)\n",
      "Lower Left  (  799980.000,  690240.000) (  6d14'15.33\"E, 72d17'21.13\"S)\n",
      "Upper Right (  909780.000,  800040.000) (  7d13'21.81\"E, 71d17'26.45\"S)\n",
      "Lower Right (  909780.000,  690240.000) (  6d13'53.61\"E, 71d17'53.53\"S)\n",
      "Center      (  854880.000,  745140.000) (  6d43'50.37\"E, 71d47'25.59\"S)\n",
      "Band 1 Block=256x256 Type=Byte, ColorInterp=Red\n",
      "  Image Structure Metadata:\n",
      "    COMPRESSION=JP2000\n",
      "Band 2 Block=256x256 Type=Byte, ColorInterp=Green\n",
      "  Image Structure Metadata:\n",
      "    COMPRESSION=JP2000\n",
      "Band 3 Block=256x256 Type=Byte, ColorInterp=Blue\n",
      "  Image Structure Metadata:\n",
      "    COMPRESSION=JP2000\n"
     ]
    }
   ],
   "source": [
    "!gdalinfo ../tiler/T18NZN_20181217T151659_TCI_10m.jp2"
   ]
  },
  {
   "cell_type": "code",
   "execution_count": 2,
   "metadata": {},
   "outputs": [
    {
     "name": "stdout",
     "output_type": "stream",
     "text": [
      "10980 x 10980\n"
     ]
    }
   ],
   "source": [
    "dset = gdal.Open('../tiler/T18NZN_20181217T151659_TCI_10m.jp2')\n",
    "##print(dset)\n",
    "width = dset.RasterXSize\n",
    "height = dset.RasterYSize\n",
    "\n",
    "print(width, 'x', height)"
   ]
  },
  {
   "cell_type": "code",
   "execution_count": 5,
   "metadata": {},
   "outputs": [
    {
     "data": {
      "text/plain": [
       "<bound method MajorObject.GetMetadata of <osgeo.gdal.Dataset; proxy of <Swig Object of type 'GDALDatasetShadow *' at 0x7f7f9d340f00> >>"
      ]
     },
     "execution_count": 5,
     "metadata": {},
     "output_type": "execute_result"
    }
   ],
   "source": []
  },
  {
   "cell_type": "markdown",
   "metadata": {},
   "source": [
    "In order to visualize on the notebook the images, I've built a function to load pixels."
   ]
  },
  {
   "cell_type": "code",
   "execution_count": 16,
   "metadata": {},
   "outputs": [],
   "source": [
    "import cv2\n",
    "import glob\n",
    "import rasterio\n",
    "from rasterio import plot\n",
    "import matplotlib.pyplot as plt\n",
    "%matplotlib inline\n",
    "#imagePath = '../data/2019-01/S2B_MSIL1C_20190129T152639_N0207_R025_T18PYQ_20190129T201832.SAFE/GRANULE/L1C_T18PYQ_A009918_20190129T152639/IMG_DATA/'"
   ]
  },
  {
   "cell_type": "code",
   "execution_count": 15,
   "metadata": {},
   "outputs": [],
   "source": [
    "def load_data_bands(path,bands='bgrn'):\n",
    "    bmd = {'bgrn':['02','03','04','08'],\n",
    "           'rgb':['04','03','02'],\n",
    "           'all':['01','02','03','04','05','06','07','08','09','10','11','12']} #dictionary bands map\n",
    "    arrs = []\n",
    "    meta = None\n",
    "    try:\n",
    "        jp2s=bmd[bands]\n",
    "        for jp2 in jp2s:\n",
    "            with rasterio.open(glob.glob(path+'*B'+jp2+'.jp2')[0]) as f:\n",
    "                print(f)\n",
    "                arrs.append(f.read(1))\n",
    "            if jp2 == '02':\n",
    "                meta = f.meta\n",
    "        if bands in {'bgrn','rgb'}: \n",
    "            data = np.array(arrs,dtype=arrs[0].dtype)\n",
    "        else: \n",
    "            data = arrs\n",
    "        return data, meta\n",
    "    except:\n",
    "        print('bands map not defined')\n",
    "        return None, None"
   ]
  },
  {
   "cell_type": "code",
   "execution_count": null,
   "metadata": {},
   "outputs": [],
   "source": []
  }
 ],
 "metadata": {
  "kernelspec": {
   "display_name": "Python 3",
   "language": "python",
   "name": "python3"
  },
  "language_info": {
   "codemirror_mode": {
    "name": "ipython",
    "version": 3
   },
   "file_extension": ".py",
   "mimetype": "text/x-python",
   "name": "python",
   "nbconvert_exporter": "python",
   "pygments_lexer": "ipython3",
   "version": "3.6.7"
  }
 },
 "nbformat": 4,
 "nbformat_minor": 2
}
